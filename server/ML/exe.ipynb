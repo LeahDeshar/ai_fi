{
 "cells": [
  {
   "cell_type": "code",
   "execution_count": 6,
   "metadata": {},
   "outputs": [],
   "source": [
    "import pandas as pd\n",
    "import numpy as np"
   ]
  },
  {
   "cell_type": "code",
   "execution_count": 15,
   "metadata": {},
   "outputs": [
    {
     "data": {
      "text/html": [
       "<div>\n",
       "<style scoped>\n",
       "    .dataframe tbody tr th:only-of-type {\n",
       "        vertical-align: middle;\n",
       "    }\n",
       "\n",
       "    .dataframe tbody tr th {\n",
       "        vertical-align: top;\n",
       "    }\n",
       "\n",
       "    .dataframe thead th {\n",
       "        text-align: right;\n",
       "    }\n",
       "</style>\n",
       "<table border=\"1\" class=\"dataframe\">\n",
       "  <thead>\n",
       "    <tr style=\"text-align: right;\">\n",
       "      <th></th>\n",
       "      <th>Exercise Name</th>\n",
       "      <th>Equipment</th>\n",
       "      <th>Variation</th>\n",
       "      <th>Utility</th>\n",
       "      <th>Mechanics</th>\n",
       "      <th>Force</th>\n",
       "      <th>Preparation</th>\n",
       "      <th>Execution</th>\n",
       "      <th>Target_Muscles</th>\n",
       "      <th>Synergist_Muscles</th>\n",
       "      <th>Stabilizer_Muscles</th>\n",
       "      <th>Antagonist_Muscles</th>\n",
       "      <th>Dynamic_Stabilizer_Muscles</th>\n",
       "      <th>Main_muscle</th>\n",
       "      <th>Difficulty (1-5)</th>\n",
       "      <th>Secondary Muscles</th>\n",
       "      <th>parent_id</th>\n",
       "    </tr>\n",
       "  </thead>\n",
       "  <tbody>\n",
       "    <tr>\n",
       "      <th>0</th>\n",
       "      <td>Neck Flexion</td>\n",
       "      <td>Cable</td>\n",
       "      <td>No</td>\n",
       "      <td>Basic or Auxiliary</td>\n",
       "      <td>Isolated</td>\n",
       "      <td>Pull</td>\n",
       "      <td>Sit on bench facing away from middle pulley. P...</td>\n",
       "      <td>Move head away from pulley by bending neck for...</td>\n",
       "      <td>Sternocleidomastoid,</td>\n",
       "      <td>None,</td>\n",
       "      <td>Rectus Abdominis, Obliques,</td>\n",
       "      <td>NaN</td>\n",
       "      <td>NaN</td>\n",
       "      <td>Neck</td>\n",
       "      <td>2</td>\n",
       "      <td>Sternocleidomastoid</td>\n",
       "      <td>NaN</td>\n",
       "    </tr>\n",
       "    <tr>\n",
       "      <th>1</th>\n",
       "      <td>Neck Flexion</td>\n",
       "      <td>Lever (plate loaded)</td>\n",
       "      <td>No</td>\n",
       "      <td>Basic or Auxiliary</td>\n",
       "      <td>Isolated</td>\n",
       "      <td>Pull</td>\n",
       "      <td>Sit on seat in machine. Position padded lever ...</td>\n",
       "      <td>Move head forward by flexing neck until chin t...</td>\n",
       "      <td>Sternocleidomastoid,</td>\n",
       "      <td>None,</td>\n",
       "      <td>Latissimus Dorsi, Deltoid, Posterior, Rhomboid...</td>\n",
       "      <td>NaN</td>\n",
       "      <td>NaN</td>\n",
       "      <td>Neck</td>\n",
       "      <td>2</td>\n",
       "      <td>Sternocleidomastoid</td>\n",
       "      <td>NaN</td>\n",
       "    </tr>\n",
       "    <tr>\n",
       "      <th>2</th>\n",
       "      <td>Lateral Neck Flexion</td>\n",
       "      <td>Lever (plate loaded)</td>\n",
       "      <td>No</td>\n",
       "      <td>Auxiliary</td>\n",
       "      <td>Isolated</td>\n",
       "      <td>Pull</td>\n",
       "      <td>Sit on seat in machine with feet apart   . Pos...</td>\n",
       "      <td>Move head down to side by laterally flexing ne...</td>\n",
       "      <td>Sternocleidomastoid,</td>\n",
       "      <td>Splenius, Erector Spinae, Levator Scapulae, Tr...</td>\n",
       "      <td>Latissimus Dorsi, Pectoralis Major, Sternal, P...</td>\n",
       "      <td>NaN</td>\n",
       "      <td>NaN</td>\n",
       "      <td>Neck</td>\n",
       "      <td>2</td>\n",
       "      <td>Sternocleidomastoid, Levator Scapulae</td>\n",
       "      <td>NaN</td>\n",
       "    </tr>\n",
       "    <tr>\n",
       "      <th>3</th>\n",
       "      <td>Neck Flexion</td>\n",
       "      <td>Lever (selectorized)</td>\n",
       "      <td>No</td>\n",
       "      <td>Basic or Auxiliary</td>\n",
       "      <td>Isolated</td>\n",
       "      <td>Pull</td>\n",
       "      <td>Sit on seat in machine. Position padded lever ...</td>\n",
       "      <td>Move head forward by flexing neck until chin t...</td>\n",
       "      <td>Sternocleidomastoid,</td>\n",
       "      <td>None,</td>\n",
       "      <td>Latissimus Dorsi, Deltoid, Posterior, Rhomboid...</td>\n",
       "      <td>NaN</td>\n",
       "      <td>NaN</td>\n",
       "      <td>Neck</td>\n",
       "      <td>2</td>\n",
       "      <td>Sternocleidomastoid</td>\n",
       "      <td>NaN</td>\n",
       "    </tr>\n",
       "    <tr>\n",
       "      <th>4</th>\n",
       "      <td>Lateral Neck Flexion</td>\n",
       "      <td>Lever (selectorized)</td>\n",
       "      <td>No</td>\n",
       "      <td>Auxiliary</td>\n",
       "      <td>Isolated</td>\n",
       "      <td>Pull</td>\n",
       "      <td>Sit on seat in machine with feet apart. Positi...</td>\n",
       "      <td>Move head down to side by laterally flexing ne...</td>\n",
       "      <td>Sternocleidomastoid,</td>\n",
       "      <td>Splenius, Erector Spinae, Levator Scapulae, Tr...</td>\n",
       "      <td>Latissimus Dorsi, Pectoralis Major, Sternal, P...</td>\n",
       "      <td>NaN</td>\n",
       "      <td>NaN</td>\n",
       "      <td>Neck</td>\n",
       "      <td>2</td>\n",
       "      <td>Sternocleidomastoid, Levator Scapulae</td>\n",
       "      <td>NaN</td>\n",
       "    </tr>\n",
       "  </tbody>\n",
       "</table>\n",
       "</div>"
      ],
      "text/plain": [
       "          Exercise Name             Equipment Variation             Utility  \\\n",
       "0          Neck Flexion                 Cable        No  Basic or Auxiliary   \n",
       "1          Neck Flexion  Lever (plate loaded)        No  Basic or Auxiliary   \n",
       "2  Lateral Neck Flexion  Lever (plate loaded)        No           Auxiliary   \n",
       "3          Neck Flexion  Lever (selectorized)        No  Basic or Auxiliary   \n",
       "4  Lateral Neck Flexion  Lever (selectorized)        No           Auxiliary   \n",
       "\n",
       "  Mechanics Force                                        Preparation  \\\n",
       "0  Isolated  Pull  Sit on bench facing away from middle pulley. P...   \n",
       "1  Isolated  Pull  Sit on seat in machine. Position padded lever ...   \n",
       "2  Isolated  Pull  Sit on seat in machine with feet apart   . Pos...   \n",
       "3  Isolated  Pull  Sit on seat in machine. Position padded lever ...   \n",
       "4  Isolated  Pull  Sit on seat in machine with feet apart. Positi...   \n",
       "\n",
       "                                           Execution        Target_Muscles  \\\n",
       "0  Move head away from pulley by bending neck for...  Sternocleidomastoid,   \n",
       "1  Move head forward by flexing neck until chin t...  Sternocleidomastoid,   \n",
       "2  Move head down to side by laterally flexing ne...  Sternocleidomastoid,   \n",
       "3  Move head forward by flexing neck until chin t...  Sternocleidomastoid,   \n",
       "4  Move head down to side by laterally flexing ne...  Sternocleidomastoid,   \n",
       "\n",
       "                                   Synergist_Muscles  \\\n",
       "0                                             None,    \n",
       "1                                             None,    \n",
       "2  Splenius, Erector Spinae, Levator Scapulae, Tr...   \n",
       "3                                             None,    \n",
       "4  Splenius, Erector Spinae, Levator Scapulae, Tr...   \n",
       "\n",
       "                                  Stabilizer_Muscles Antagonist_Muscles  \\\n",
       "0                       Rectus Abdominis, Obliques,                 NaN   \n",
       "1  Latissimus Dorsi, Deltoid, Posterior, Rhomboid...                NaN   \n",
       "2  Latissimus Dorsi, Pectoralis Major, Sternal, P...                NaN   \n",
       "3  Latissimus Dorsi, Deltoid, Posterior, Rhomboid...                NaN   \n",
       "4  Latissimus Dorsi, Pectoralis Major, Sternal, P...                NaN   \n",
       "\n",
       "  Dynamic_Stabilizer_Muscles Main_muscle  Difficulty (1-5)  \\\n",
       "0                        NaN        Neck                 2   \n",
       "1                        NaN        Neck                 2   \n",
       "2                        NaN        Neck                 2   \n",
       "3                        NaN        Neck                 2   \n",
       "4                        NaN        Neck                 2   \n",
       "\n",
       "                       Secondary Muscles  parent_id  \n",
       "0                    Sternocleidomastoid        NaN  \n",
       "1                    Sternocleidomastoid        NaN  \n",
       "2  Sternocleidomastoid, Levator Scapulae        NaN  \n",
       "3                    Sternocleidomastoid        NaN  \n",
       "4  Sternocleidomastoid, Levator Scapulae        NaN  "
      ]
     },
     "execution_count": 15,
     "metadata": {},
     "output_type": "execute_result"
    }
   ],
   "source": [
    "gym_data = pd.read_csv(\"gym/gym_exercise_dataset.csv\")\n",
    "gym_data.head()"
   ]
  },
  {
   "cell_type": "code",
   "execution_count": 8,
   "metadata": {},
   "outputs": [],
   "source": [
    "exe_data = pd.read_csv(\"gym/exercises.csv\")\n",
    "# exe_data.head()"
   ]
  },
  {
   "cell_type": "code",
   "execution_count": 9,
   "metadata": {},
   "outputs": [
    {
     "data": {
      "text/plain": [
       "Index(['name', 'force', 'level', 'mechanic', 'equipment', 'primaryMuscles',\n",
       "       'secondaryMuscles', 'instructions', 'category', 'images', 'id'],\n",
       "      dtype='object')"
      ]
     },
     "execution_count": 9,
     "metadata": {},
     "output_type": "execute_result"
    }
   ],
   "source": [
    "\n",
    "exe_data.columns"
   ]
  },
  {
   "cell_type": "code",
   "execution_count": 10,
   "metadata": {},
   "outputs": [],
   "source": [
    "# df= exe_data['target'].unique()\n",
    "# df"
   ]
  },
  {
   "cell_type": "code",
   "execution_count": 11,
   "metadata": {},
   "outputs": [
    {
     "data": {
      "text/plain": [
       "name                object\n",
       "force               object\n",
       "level               object\n",
       "mechanic            object\n",
       "equipment           object\n",
       "primaryMuscles      object\n",
       "secondaryMuscles    object\n",
       "instructions        object\n",
       "category            object\n",
       "images              object\n",
       "id                  object\n",
       "dtype: object"
      ]
     },
     "execution_count": 11,
     "metadata": {},
     "output_type": "execute_result"
    }
   ],
   "source": [
    "exe_data.dtypes"
   ]
  },
  {
   "cell_type": "code",
   "execution_count": 12,
   "metadata": {},
   "outputs": [
    {
     "data": {
      "text/plain": [
       "Index(['Exercise Name', 'Equipment', 'Variation', 'Utility', 'Mechanics',\n",
       "       'Force', 'Preparation', 'Execution', 'Target_Muscles',\n",
       "       'Synergist_Muscles', 'Stabilizer_Muscles', 'Antagonist_Muscles',\n",
       "       'Dynamic_Stabilizer_Muscles', 'Main_muscle', 'Difficulty (1-5)',\n",
       "       'Secondary Muscles', 'parent_id'],\n",
       "      dtype='object')"
      ]
     },
     "execution_count": 12,
     "metadata": {},
     "output_type": "execute_result"
    }
   ],
   "source": [
    "gym_data.columns"
   ]
  },
  {
   "cell_type": "code",
   "execution_count": null,
   "metadata": {},
   "outputs": [],
   "source": []
  },
  {
   "cell_type": "code",
   "execution_count": null,
   "metadata": {},
   "outputs": [],
   "source": []
  },
  {
   "cell_type": "code",
   "execution_count": null,
   "metadata": {},
   "outputs": [],
   "source": [
    "\n"
   ]
  },
  {
   "cell_type": "code",
   "execution_count": null,
   "metadata": {},
   "outputs": [],
   "source": []
  },
  {
   "cell_type": "code",
   "execution_count": 13,
   "metadata": {},
   "outputs": [
    {
     "ename": "KeyError",
     "evalue": "'bodyPart'",
     "output_type": "error",
     "traceback": [
      "\u001b[1;31m---------------------------------------------------------------------------\u001b[0m",
      "\u001b[1;31mKeyError\u001b[0m                                  Traceback (most recent call last)",
      "File \u001b[1;32mc:\\Users\\Dell\\AppData\\Local\\Programs\\Python\\Python311\\Lib\\site-packages\\pandas\\core\\indexes\\base.py:3790\u001b[0m, in \u001b[0;36mIndex.get_loc\u001b[1;34m(self, key)\u001b[0m\n\u001b[0;32m   3789\u001b[0m \u001b[38;5;28;01mtry\u001b[39;00m:\n\u001b[1;32m-> 3790\u001b[0m     \u001b[38;5;28;01mreturn\u001b[39;00m \u001b[38;5;28;43mself\u001b[39;49m\u001b[38;5;241;43m.\u001b[39;49m\u001b[43m_engine\u001b[49m\u001b[38;5;241;43m.\u001b[39;49m\u001b[43mget_loc\u001b[49m\u001b[43m(\u001b[49m\u001b[43mcasted_key\u001b[49m\u001b[43m)\u001b[49m\n\u001b[0;32m   3791\u001b[0m \u001b[38;5;28;01mexcept\u001b[39;00m \u001b[38;5;167;01mKeyError\u001b[39;00m \u001b[38;5;28;01mas\u001b[39;00m err:\n",
      "File \u001b[1;32mindex.pyx:152\u001b[0m, in \u001b[0;36mpandas._libs.index.IndexEngine.get_loc\u001b[1;34m()\u001b[0m\n",
      "File \u001b[1;32mindex.pyx:181\u001b[0m, in \u001b[0;36mpandas._libs.index.IndexEngine.get_loc\u001b[1;34m()\u001b[0m\n",
      "File \u001b[1;32mpandas\\_libs\\hashtable_class_helper.pxi:7080\u001b[0m, in \u001b[0;36mpandas._libs.hashtable.PyObjectHashTable.get_item\u001b[1;34m()\u001b[0m\n",
      "File \u001b[1;32mpandas\\_libs\\hashtable_class_helper.pxi:7088\u001b[0m, in \u001b[0;36mpandas._libs.hashtable.PyObjectHashTable.get_item\u001b[1;34m()\u001b[0m\n",
      "\u001b[1;31mKeyError\u001b[0m: 'bodyPart'",
      "\nThe above exception was the direct cause of the following exception:\n",
      "\u001b[1;31mKeyError\u001b[0m                                  Traceback (most recent call last)",
      "Cell \u001b[1;32mIn[13], line 20\u001b[0m\n\u001b[0;32m     18\u001b[0m \u001b[38;5;28;01mfor\u001b[39;00m col \u001b[38;5;129;01min\u001b[39;00m categorical_columns:\n\u001b[0;32m     19\u001b[0m     le \u001b[38;5;241m=\u001b[39m LabelEncoder()\n\u001b[1;32m---> 20\u001b[0m     df[col] \u001b[38;5;241m=\u001b[39m le\u001b[38;5;241m.\u001b[39mfit_transform(\u001b[43mdf\u001b[49m\u001b[43m[\u001b[49m\u001b[43mcol\u001b[49m\u001b[43m]\u001b[49m\u001b[38;5;241m.\u001b[39mastype(\u001b[38;5;28mstr\u001b[39m))  \u001b[38;5;66;03m# Handle NaN values if necessary\u001b[39;00m\n\u001b[0;32m     21\u001b[0m     label_encoders[col] \u001b[38;5;241m=\u001b[39m le  \u001b[38;5;66;03m# Save the encoders for later use\u001b[39;00m\n\u001b[0;32m     23\u001b[0m \u001b[38;5;66;03m# Selecting features\u001b[39;00m\n",
      "File \u001b[1;32mc:\\Users\\Dell\\AppData\\Local\\Programs\\Python\\Python311\\Lib\\site-packages\\pandas\\core\\frame.py:3893\u001b[0m, in \u001b[0;36mDataFrame.__getitem__\u001b[1;34m(self, key)\u001b[0m\n\u001b[0;32m   3891\u001b[0m \u001b[38;5;28;01mif\u001b[39;00m \u001b[38;5;28mself\u001b[39m\u001b[38;5;241m.\u001b[39mcolumns\u001b[38;5;241m.\u001b[39mnlevels \u001b[38;5;241m>\u001b[39m \u001b[38;5;241m1\u001b[39m:\n\u001b[0;32m   3892\u001b[0m     \u001b[38;5;28;01mreturn\u001b[39;00m \u001b[38;5;28mself\u001b[39m\u001b[38;5;241m.\u001b[39m_getitem_multilevel(key)\n\u001b[1;32m-> 3893\u001b[0m indexer \u001b[38;5;241m=\u001b[39m \u001b[38;5;28;43mself\u001b[39;49m\u001b[38;5;241;43m.\u001b[39;49m\u001b[43mcolumns\u001b[49m\u001b[38;5;241;43m.\u001b[39;49m\u001b[43mget_loc\u001b[49m\u001b[43m(\u001b[49m\u001b[43mkey\u001b[49m\u001b[43m)\u001b[49m\n\u001b[0;32m   3894\u001b[0m \u001b[38;5;28;01mif\u001b[39;00m is_integer(indexer):\n\u001b[0;32m   3895\u001b[0m     indexer \u001b[38;5;241m=\u001b[39m [indexer]\n",
      "File \u001b[1;32mc:\\Users\\Dell\\AppData\\Local\\Programs\\Python\\Python311\\Lib\\site-packages\\pandas\\core\\indexes\\base.py:3797\u001b[0m, in \u001b[0;36mIndex.get_loc\u001b[1;34m(self, key)\u001b[0m\n\u001b[0;32m   3792\u001b[0m     \u001b[38;5;28;01mif\u001b[39;00m \u001b[38;5;28misinstance\u001b[39m(casted_key, \u001b[38;5;28mslice\u001b[39m) \u001b[38;5;129;01mor\u001b[39;00m (\n\u001b[0;32m   3793\u001b[0m         \u001b[38;5;28misinstance\u001b[39m(casted_key, abc\u001b[38;5;241m.\u001b[39mIterable)\n\u001b[0;32m   3794\u001b[0m         \u001b[38;5;129;01mand\u001b[39;00m \u001b[38;5;28many\u001b[39m(\u001b[38;5;28misinstance\u001b[39m(x, \u001b[38;5;28mslice\u001b[39m) \u001b[38;5;28;01mfor\u001b[39;00m x \u001b[38;5;129;01min\u001b[39;00m casted_key)\n\u001b[0;32m   3795\u001b[0m     ):\n\u001b[0;32m   3796\u001b[0m         \u001b[38;5;28;01mraise\u001b[39;00m InvalidIndexError(key)\n\u001b[1;32m-> 3797\u001b[0m     \u001b[38;5;28;01mraise\u001b[39;00m \u001b[38;5;167;01mKeyError\u001b[39;00m(key) \u001b[38;5;28;01mfrom\u001b[39;00m \u001b[38;5;21;01merr\u001b[39;00m\n\u001b[0;32m   3798\u001b[0m \u001b[38;5;28;01mexcept\u001b[39;00m \u001b[38;5;167;01mTypeError\u001b[39;00m:\n\u001b[0;32m   3799\u001b[0m     \u001b[38;5;66;03m# If we have a listlike key, _check_indexing_error will raise\u001b[39;00m\n\u001b[0;32m   3800\u001b[0m     \u001b[38;5;66;03m#  InvalidIndexError. Otherwise we fall through and re-raise\u001b[39;00m\n\u001b[0;32m   3801\u001b[0m     \u001b[38;5;66;03m#  the TypeError.\u001b[39;00m\n\u001b[0;32m   3802\u001b[0m     \u001b[38;5;28mself\u001b[39m\u001b[38;5;241m.\u001b[39m_check_indexing_error(key)\n",
      "\u001b[1;31mKeyError\u001b[0m: 'bodyPart'"
     ]
    }
   ],
   "source": [
    "import pandas as pd\n",
    "from sklearn.model_selection import train_test_split\n",
    "from sklearn.preprocessing import LabelEncoder\n",
    "from sklearn.neighbors import KNeighborsClassifier\n",
    "from sklearn.ensemble import RandomForestClassifier\n",
    "from sklearn.metrics import accuracy_score\n",
    "\n",
    "# Load the dataset\n",
    "# Assuming the dataset is a CSV\n",
    "df = pd.read_csv('gym/exercises.csv')\n",
    "\n",
    "# Label encoding for categorical columns\n",
    "label_encoders = {}\n",
    "categorical_columns = ['bodyPart', 'equipment', 'target', 'secondaryMuscles/0', 'secondaryMuscles/1',\n",
    "                       'secondaryMuscles/2', 'secondaryMuscles/3', 'secondaryMuscles/4', 'secondaryMuscles/5']\n",
    "\n",
    "# Encode each categorical column\n",
    "for col in categorical_columns:\n",
    "    le = LabelEncoder()\n",
    "    df[col] = le.fit_transform(df[col].astype(str))  # Handle NaN values if necessary\n",
    "    label_encoders[col] = le  # Save the encoders for later use\n",
    "\n",
    "# Selecting features\n",
    "X = df[['bodyPart', 'equipment', 'target', 'secondaryMuscles/0', 'secondaryMuscles/1', \n",
    "        'secondaryMuscles/2', 'secondaryMuscles/3', 'secondaryMuscles/4', 'secondaryMuscles/5']]\n",
    "\n",
    "# Target variable (target muscle)\n",
    "y = df['target']\n",
    "\n",
    "# Split the dataset into training and test sets\n",
    "X_train, X_test, y_train, y_test = train_test_split(X, y, test_size=0.2, random_state=42)# Random Forest model\n",
    "rf = RandomForestClassifier(n_estimators=100, random_state=42)\n",
    "\n",
    "# Train the model\n",
    "rf.fit(X_train, y_train)\n",
    "\n",
    "# Predict on test set\n",
    "y_pred_rf = rf.predict(X_test)\n",
    "\n",
    "# Evaluate accuracy\n",
    "accuracy_rf = accuracy_score(y_test, y_pred_rf)\n",
    "print(f'Random Forest Accuracy: {accuracy_rf * 100:.2f}%')\n",
    "# Example: Recommend exercises similar to a specific target\n",
    "def recommend_exercises(target_input, k=5):\n",
    "    # Encode the target input using the label encoder\n",
    "    target_encoded = label_encoders['target'].transform([target_input])[0]\n",
    "    \n",
    "    # Get the predicted probabilities for the input\n",
    "    probabilities = rf.predict_proba(X_test)\n",
    "    \n",
    "    # # Get indices of top k exercises similar to the input\n",
    "    recommended_indices = np.argsort(probabilities[:, target_encoded])[-k:][::-1]\n",
    "    \n",
    "    # # Decode the recommended target exercises\n",
    "    recommendations = df.iloc[recommended_indices]\n",
    "    \n",
    "    # Return the recommended exercises\n",
    "    return recommendations\n",
    "\n",
    "# Example usage\n",
    "target_input = 'triceps'  # Provide a target muscle group\n",
    "recommended_exercises = recommend_exercises(target_input)\n",
    "print(recommended_exercises)\n",
    "\n",
    "\n",
    "\n"
   ]
  },
  {
   "cell_type": "code",
   "execution_count": null,
   "metadata": {},
   "outputs": [],
   "source": [
    "# # KNN model\n",
    "# knn = KNeighborsClassifier(n_neighbors=5)\n",
    "\n",
    "# # Train the model\n",
    "# knn.fit(X_train, y_train)\n",
    "\n",
    "# # Predict on test set\n",
    "# y_pred_knn = knn.predict(X_test)\n",
    "\n",
    "# # Evaluate accuracy\n",
    "# accuracy_knn = accuracy_score(y_test, y_pred_knn)\n",
    "# print(f'KNN Accuracy: {accuracy_knn * 100:.2f}%')\n",
    "\n"
   ]
  },
  {
   "cell_type": "code",
   "execution_count": 14,
   "metadata": {},
   "outputs": [
    {
     "ename": "KeyError",
     "evalue": "'bodyPart'",
     "output_type": "error",
     "traceback": [
      "\u001b[1;31m---------------------------------------------------------------------------\u001b[0m",
      "\u001b[1;31mKeyError\u001b[0m                                  Traceback (most recent call last)",
      "File \u001b[1;32mc:\\Users\\Dell\\AppData\\Local\\Programs\\Python\\Python311\\Lib\\site-packages\\pandas\\core\\indexes\\base.py:3790\u001b[0m, in \u001b[0;36mIndex.get_loc\u001b[1;34m(self, key)\u001b[0m\n\u001b[0;32m   3789\u001b[0m \u001b[38;5;28;01mtry\u001b[39;00m:\n\u001b[1;32m-> 3790\u001b[0m     \u001b[38;5;28;01mreturn\u001b[39;00m \u001b[38;5;28;43mself\u001b[39;49m\u001b[38;5;241;43m.\u001b[39;49m\u001b[43m_engine\u001b[49m\u001b[38;5;241;43m.\u001b[39;49m\u001b[43mget_loc\u001b[49m\u001b[43m(\u001b[49m\u001b[43mcasted_key\u001b[49m\u001b[43m)\u001b[49m\n\u001b[0;32m   3791\u001b[0m \u001b[38;5;28;01mexcept\u001b[39;00m \u001b[38;5;167;01mKeyError\u001b[39;00m \u001b[38;5;28;01mas\u001b[39;00m err:\n",
      "File \u001b[1;32mindex.pyx:152\u001b[0m, in \u001b[0;36mpandas._libs.index.IndexEngine.get_loc\u001b[1;34m()\u001b[0m\n",
      "File \u001b[1;32mindex.pyx:181\u001b[0m, in \u001b[0;36mpandas._libs.index.IndexEngine.get_loc\u001b[1;34m()\u001b[0m\n",
      "File \u001b[1;32mpandas\\_libs\\hashtable_class_helper.pxi:7080\u001b[0m, in \u001b[0;36mpandas._libs.hashtable.PyObjectHashTable.get_item\u001b[1;34m()\u001b[0m\n",
      "File \u001b[1;32mpandas\\_libs\\hashtable_class_helper.pxi:7088\u001b[0m, in \u001b[0;36mpandas._libs.hashtable.PyObjectHashTable.get_item\u001b[1;34m()\u001b[0m\n",
      "\u001b[1;31mKeyError\u001b[0m: 'bodyPart'",
      "\nThe above exception was the direct cause of the following exception:\n",
      "\u001b[1;31mKeyError\u001b[0m                                  Traceback (most recent call last)",
      "Cell \u001b[1;32mIn[14], line 21\u001b[0m\n\u001b[0;32m     19\u001b[0m \u001b[38;5;28;01mfor\u001b[39;00m col \u001b[38;5;129;01min\u001b[39;00m categorical_columns:\n\u001b[0;32m     20\u001b[0m     le \u001b[38;5;241m=\u001b[39m LabelEncoder()\n\u001b[1;32m---> 21\u001b[0m     df[col] \u001b[38;5;241m=\u001b[39m le\u001b[38;5;241m.\u001b[39mfit_transform(\u001b[43mdf\u001b[49m\u001b[43m[\u001b[49m\u001b[43mcol\u001b[49m\u001b[43m]\u001b[49m\u001b[38;5;241m.\u001b[39mastype(\u001b[38;5;28mstr\u001b[39m))  \u001b[38;5;66;03m# Handle NaN values if necessary\u001b[39;00m\n\u001b[0;32m     22\u001b[0m     label_encoders[col] \u001b[38;5;241m=\u001b[39m le  \u001b[38;5;66;03m# Save the encoders for later use\u001b[39;00m\n\u001b[0;32m     24\u001b[0m \u001b[38;5;66;03m# Selecting features\u001b[39;00m\n",
      "File \u001b[1;32mc:\\Users\\Dell\\AppData\\Local\\Programs\\Python\\Python311\\Lib\\site-packages\\pandas\\core\\frame.py:3893\u001b[0m, in \u001b[0;36mDataFrame.__getitem__\u001b[1;34m(self, key)\u001b[0m\n\u001b[0;32m   3891\u001b[0m \u001b[38;5;28;01mif\u001b[39;00m \u001b[38;5;28mself\u001b[39m\u001b[38;5;241m.\u001b[39mcolumns\u001b[38;5;241m.\u001b[39mnlevels \u001b[38;5;241m>\u001b[39m \u001b[38;5;241m1\u001b[39m:\n\u001b[0;32m   3892\u001b[0m     \u001b[38;5;28;01mreturn\u001b[39;00m \u001b[38;5;28mself\u001b[39m\u001b[38;5;241m.\u001b[39m_getitem_multilevel(key)\n\u001b[1;32m-> 3893\u001b[0m indexer \u001b[38;5;241m=\u001b[39m \u001b[38;5;28;43mself\u001b[39;49m\u001b[38;5;241;43m.\u001b[39;49m\u001b[43mcolumns\u001b[49m\u001b[38;5;241;43m.\u001b[39;49m\u001b[43mget_loc\u001b[49m\u001b[43m(\u001b[49m\u001b[43mkey\u001b[49m\u001b[43m)\u001b[49m\n\u001b[0;32m   3894\u001b[0m \u001b[38;5;28;01mif\u001b[39;00m is_integer(indexer):\n\u001b[0;32m   3895\u001b[0m     indexer \u001b[38;5;241m=\u001b[39m [indexer]\n",
      "File \u001b[1;32mc:\\Users\\Dell\\AppData\\Local\\Programs\\Python\\Python311\\Lib\\site-packages\\pandas\\core\\indexes\\base.py:3797\u001b[0m, in \u001b[0;36mIndex.get_loc\u001b[1;34m(self, key)\u001b[0m\n\u001b[0;32m   3792\u001b[0m     \u001b[38;5;28;01mif\u001b[39;00m \u001b[38;5;28misinstance\u001b[39m(casted_key, \u001b[38;5;28mslice\u001b[39m) \u001b[38;5;129;01mor\u001b[39;00m (\n\u001b[0;32m   3793\u001b[0m         \u001b[38;5;28misinstance\u001b[39m(casted_key, abc\u001b[38;5;241m.\u001b[39mIterable)\n\u001b[0;32m   3794\u001b[0m         \u001b[38;5;129;01mand\u001b[39;00m \u001b[38;5;28many\u001b[39m(\u001b[38;5;28misinstance\u001b[39m(x, \u001b[38;5;28mslice\u001b[39m) \u001b[38;5;28;01mfor\u001b[39;00m x \u001b[38;5;129;01min\u001b[39;00m casted_key)\n\u001b[0;32m   3795\u001b[0m     ):\n\u001b[0;32m   3796\u001b[0m         \u001b[38;5;28;01mraise\u001b[39;00m InvalidIndexError(key)\n\u001b[1;32m-> 3797\u001b[0m     \u001b[38;5;28;01mraise\u001b[39;00m \u001b[38;5;167;01mKeyError\u001b[39;00m(key) \u001b[38;5;28;01mfrom\u001b[39;00m \u001b[38;5;21;01merr\u001b[39;00m\n\u001b[0;32m   3798\u001b[0m \u001b[38;5;28;01mexcept\u001b[39;00m \u001b[38;5;167;01mTypeError\u001b[39;00m:\n\u001b[0;32m   3799\u001b[0m     \u001b[38;5;66;03m# If we have a listlike key, _check_indexing_error will raise\u001b[39;00m\n\u001b[0;32m   3800\u001b[0m     \u001b[38;5;66;03m#  InvalidIndexError. Otherwise we fall through and re-raise\u001b[39;00m\n\u001b[0;32m   3801\u001b[0m     \u001b[38;5;66;03m#  the TypeError.\u001b[39;00m\n\u001b[0;32m   3802\u001b[0m     \u001b[38;5;28mself\u001b[39m\u001b[38;5;241m.\u001b[39m_check_indexing_error(key)\n",
      "\u001b[1;31mKeyError\u001b[0m: 'bodyPart'"
     ]
    }
   ],
   "source": [
    "import pandas as pd\n",
    "import numpy as np\n",
    "from sklearn.model_selection import train_test_split\n",
    "from sklearn.preprocessing import LabelEncoder\n",
    "from sklearn.ensemble import RandomForestClassifier\n",
    "from sklearn.metrics import accuracy_score\n",
    "import joblib  # For saving and loading the model\n",
    "import os\n",
    "\n",
    "# Load the dataset (update the path as needed)\n",
    "df = pd.read_csv('gym/exercises.csv')\n",
    "\n",
    "# Label encoding for categorical columns\n",
    "label_encoders = {}\n",
    "categorical_columns = ['bodyPart', 'equipment', 'target', 'secondaryMuscles/0', 'secondaryMuscles/1',\n",
    "                       'secondaryMuscles/2', 'secondaryMuscles/3', 'secondaryMuscles/4', 'secondaryMuscles/5']\n",
    "\n",
    "# Encode each categorical column\n",
    "for col in categorical_columns:\n",
    "    le = LabelEncoder()\n",
    "    df[col] = le.fit_transform(df[col].astype(str))  # Handle NaN values if necessary\n",
    "    label_encoders[col] = le  # Save the encoders for later use\n",
    "\n",
    "# Selecting features\n",
    "X = df[['bodyPart', 'equipment', 'target', 'secondaryMuscles/0', 'secondaryMuscles/1', \n",
    "        'secondaryMuscles/2', 'secondaryMuscles/3', 'secondaryMuscles/4', 'secondaryMuscles/5']]\n",
    "\n",
    "# Target variable (target muscle)\n",
    "y = df['target']\n",
    "\n",
    "# Split the dataset into training and test sets\n",
    "X_train, X_test, y_train, y_test = train_test_split(X, y, test_size=0.2, random_state=42)\n",
    "\n",
    "# Random Forest model\n",
    "rf = RandomForestClassifier(n_estimators=100, random_state=42)\n",
    "\n",
    "# Train the model\n",
    "rf.fit(X_train, y_train)\n",
    "\n",
    "# Predict on test set\n",
    "y_pred_rf = rf.predict(X_test)\n",
    "\n",
    "# Evaluate accuracy\n",
    "accuracy_rf = accuracy_score(y_test, y_pred_rf)\n",
    "print(f'Random Forest Accuracy: {accuracy_rf * 100:.2f}%')\n",
    "\n",
    "# Save the trained model as a .pkl file\n",
    "model_filename = 'exercise_recommender_model.pkl'\n",
    "joblib.dump(rf, model_filename)\n",
    "print(f'Model saved as {model_filename}')\n",
    "\n",
    "# Save the label encoders for future use\n",
    "encoder_filename = 'label_encoders.pkl'\n",
    "joblib.dump(label_encoders, encoder_filename)\n",
    "print(f'Label encoders saved as {encoder_filename}')\n",
    "\n",
    "# Function to recommend exercises similar to a specific target\n",
    "def recommend_exercises(target_input, k=5):\n",
    "    # Error handling for invalid inputs\n",
    "    if target_input not in label_encoders['target'].classes_:\n",
    "        return f\"Invalid target: {target_input}. Available options: {label_encoders['target'].classes_}\"\n",
    "    \n",
    "    # Encode the target input using the label encoder\n",
    "    target_encoded = label_encoders['target'].transform([target_input])[0]\n",
    "    \n",
    "    # Get the predicted probabilities for all test data\n",
    "    probabilities = rf.predict_proba(X_test)\n",
    "    \n",
    "    # Get indices of top k exercises similar to the input\n",
    "    recommended_indices = np.argsort(probabilities[:, target_encoded])[-k:][::-1]\n",
    "    \n",
    "    # Decode the recommended target exercises\n",
    "    recommendations = df.iloc[recommended_indices]\n",
    "    \n",
    "    # Return the recommended exercises\n",
    "    return recommendations\n",
    "\n",
    "# Example usage\n",
    "target_input = 'quads'  # Provide a target muscle group\n",
    "recommended_exercises = recommend_exercises(target_input)\n",
    "print(recommended_exercises)\n"
   ]
  },
  {
   "cell_type": "code",
   "execution_count": null,
   "metadata": {},
   "outputs": [],
   "source": [
    "\n",
    "\n",
    "\n",
    "\n"
   ]
  },
  {
   "cell_type": "code",
   "execution_count": null,
   "metadata": {},
   "outputs": [],
   "source": []
  },
  {
   "cell_type": "code",
   "execution_count": null,
   "metadata": {},
   "outputs": [
    {
     "data": {
      "text/plain": [
       "['exe_label_encoders.pkl']"
      ]
     },
     "execution_count": 40,
     "metadata": {},
     "output_type": "execute_result"
    }
   ],
   "source": [
    "import joblib\n",
    "# # Save the RandomForest model and label encoders\n",
    "joblib.dump(rf, 'exe_model.pkl')\n",
    "joblib.dump(label_encoders, 'exe_label_encoders.pkl')"
   ]
  },
  {
   "cell_type": "code",
   "execution_count": null,
   "metadata": {},
   "outputs": [],
   "source": [
    "# # Example: Recommend exercises similar to a specific target\n",
    "# def recommend_exercises(target_input, k=5):\n",
    "#     target_encoded = label_encoders['target'].transform([target_input])[0]\n",
    "    \n",
    "#     # Find the k-nearest neighbors\n",
    "#     distances, indices = knn.kneighbors(X[X['target'] == target_encoded], n_neighbors=k)\n",
    "    \n",
    "#     # Get the recommended exercises\n",
    "#     recommended_exercises = df.iloc[indices[0]]\n",
    "#     return recommended_exercises[['name', 'target', 'bodyPart', 'equipment']]\n",
    "\n",
    "# # Recommend exercises similar to 'biceps'\n",
    "# recommend_exercises('biceps', k=5)\n"
   ]
  },
  {
   "cell_type": "code",
   "execution_count": null,
   "metadata": {},
   "outputs": [],
   "source": [
    "# # Feature importance from the random forest\n",
    "# importances = rf.feature_importances_\n",
    "# feature_names = X.columns\n",
    "\n",
    "# # Display the feature importance\n",
    "# for name, importance in zip(feature_names, importances):\n",
    "#     print(f'{name}: {importance:.4f}')\n"
   ]
  },
  {
   "cell_type": "code",
   "execution_count": null,
   "metadata": {},
   "outputs": [],
   "source": [
    "# import pickle\n",
    "# # Save the Random Forest model and label encoders\n",
    "# with open('exercise_model.pkl', 'wb') as file:\n",
    "#     pickle.dump({'model': rf, 'label_encoders': label_encoders}, file)"
   ]
  },
  {
   "cell_type": "code",
   "execution_count": null,
   "metadata": {},
   "outputs": [],
   "source": []
  },
  {
   "cell_type": "code",
   "execution_count": null,
   "metadata": {},
   "outputs": [],
   "source": []
  },
  {
   "cell_type": "code",
   "execution_count": null,
   "metadata": {},
   "outputs": [],
   "source": []
  },
  {
   "cell_type": "code",
   "execution_count": null,
   "metadata": {},
   "outputs": [],
   "source": []
  },
  {
   "cell_type": "code",
   "execution_count": null,
   "metadata": {},
   "outputs": [],
   "source": []
  },
  {
   "cell_type": "code",
   "execution_count": null,
   "metadata": {},
   "outputs": [],
   "source": []
  },
  {
   "cell_type": "code",
   "execution_count": null,
   "metadata": {},
   "outputs": [],
   "source": []
  }
 ],
 "metadata": {
  "kernelspec": {
   "display_name": "Python 3",
   "language": "python",
   "name": "python3"
  },
  "language_info": {
   "codemirror_mode": {
    "name": "ipython",
    "version": 3
   },
   "file_extension": ".py",
   "mimetype": "text/x-python",
   "name": "python",
   "nbconvert_exporter": "python",
   "pygments_lexer": "ipython3",
   "version": "3.11.4"
  }
 },
 "nbformat": 4,
 "nbformat_minor": 2
}
