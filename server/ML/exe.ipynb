{
 "cells": [
  {
   "cell_type": "code",
   "execution_count": 30,
   "metadata": {},
   "outputs": [],
   "source": [
    "import pandas as pd\n",
    "import numpy as np"
   ]
  },
  {
   "cell_type": "code",
   "execution_count": 31,
   "metadata": {},
   "outputs": [],
   "source": [
    "gym_data = pd.read_csv(\"gym/gym_exercise_dataset.csv\")\n",
    "# gym_data.head()"
   ]
  },
  {
   "cell_type": "code",
   "execution_count": 32,
   "metadata": {},
   "outputs": [],
   "source": [
    "exe_data = pd.read_csv(\"gym/exercises.csv\")\n",
    "# exe_data.head()"
   ]
  },
  {
   "cell_type": "code",
   "execution_count": 33,
   "metadata": {},
   "outputs": [
    {
     "data": {
      "text/plain": [
       "Index(['bodyPart', 'equipment', 'gifUrl', 'id', 'name', 'target',\n",
       "       'secondaryMuscles/0', 'secondaryMuscles/1', 'instructions/0',\n",
       "       'instructions/1', 'instructions/2', 'instructions/3', 'instructions/4',\n",
       "       'instructions/5', 'secondaryMuscles/2', 'instructions/6',\n",
       "       'instructions/7', 'secondaryMuscles/3', 'instructions/8',\n",
       "       'secondaryMuscles/4', 'instructions/9', 'secondaryMuscles/5',\n",
       "       'instructions/10'],\n",
       "      dtype='object')"
      ]
     },
     "execution_count": 33,
     "metadata": {},
     "output_type": "execute_result"
    }
   ],
   "source": [
    "\n",
    "exe_data.columns"
   ]
  },
  {
   "cell_type": "code",
   "execution_count": 34,
   "metadata": {},
   "outputs": [
    {
     "data": {
      "text/plain": [
       "array(['abs', 'quads', 'lats', 'calves', 'pectorals', 'glutes',\n",
       "       'hamstrings', 'adductors', 'triceps', 'cardiovascular system',\n",
       "       'spine', 'upper back', 'biceps', 'delts', 'forearms', 'traps',\n",
       "       'serratus anterior', 'abductors', 'levator scapulae'], dtype=object)"
      ]
     },
     "execution_count": 34,
     "metadata": {},
     "output_type": "execute_result"
    }
   ],
   "source": [
    "df= exe_data['target'].unique()\n",
    "df"
   ]
  },
  {
   "cell_type": "code",
   "execution_count": 35,
   "metadata": {},
   "outputs": [
    {
     "data": {
      "text/plain": [
       "bodyPart              object\n",
       "equipment             object\n",
       "gifUrl                object\n",
       "id                     int64\n",
       "name                  object\n",
       "target                object\n",
       "secondaryMuscles/0    object\n",
       "secondaryMuscles/1    object\n",
       "instructions/0        object\n",
       "instructions/1        object\n",
       "instructions/2        object\n",
       "instructions/3        object\n",
       "instructions/4        object\n",
       "instructions/5        object\n",
       "secondaryMuscles/2    object\n",
       "instructions/6        object\n",
       "instructions/7        object\n",
       "secondaryMuscles/3    object\n",
       "instructions/8        object\n",
       "secondaryMuscles/4    object\n",
       "instructions/9        object\n",
       "secondaryMuscles/5    object\n",
       "instructions/10       object\n",
       "dtype: object"
      ]
     },
     "execution_count": 35,
     "metadata": {},
     "output_type": "execute_result"
    }
   ],
   "source": [
    "exe_data.dtypes"
   ]
  },
  {
   "cell_type": "code",
   "execution_count": 36,
   "metadata": {},
   "outputs": [
    {
     "data": {
      "text/plain": [
       "Index(['Exercise Name', 'Equipment', 'Variation', 'Utility', 'Mechanics',\n",
       "       'Force', 'Preparation', 'Execution', 'Target_Muscles',\n",
       "       'Synergist_Muscles', 'Stabilizer_Muscles', 'Antagonist_Muscles',\n",
       "       'Dynamic_Stabilizer_Muscles', 'Main_muscle', 'Difficulty (1-5)',\n",
       "       'Secondary Muscles', 'parent_id'],\n",
       "      dtype='object')"
      ]
     },
     "execution_count": 36,
     "metadata": {},
     "output_type": "execute_result"
    }
   ],
   "source": [
    "gym_data.columns"
   ]
  },
  {
   "cell_type": "code",
   "execution_count": null,
   "metadata": {},
   "outputs": [],
   "source": []
  },
  {
   "cell_type": "code",
   "execution_count": null,
   "metadata": {},
   "outputs": [],
   "source": []
  },
  {
   "cell_type": "code",
   "execution_count": null,
   "metadata": {},
   "outputs": [],
   "source": [
    "\n"
   ]
  },
  {
   "cell_type": "code",
   "execution_count": null,
   "metadata": {},
   "outputs": [],
   "source": []
  },
  {
   "cell_type": "code",
   "execution_count": 37,
   "metadata": {},
   "outputs": [
    {
     "name": "stdout",
     "output_type": "stream",
     "text": [
      "Random Forest Accuracy: 99.25%\n",
      "     bodyPart  equipment                                         gifUrl    id  \\\n",
      "155         8          2  https://v2.exercisedb.io/image/yF0hJtK2OllNFp    69   \n",
      "75          0          1  https://v2.exercisedb.io/image/IQa5iTUWR-3zHW  1018   \n",
      "95          6          1  https://v2.exercisedb.io/image/yOoEhSesU5SZRU  1017   \n",
      "158         0          2  https://v2.exercisedb.io/image/NOnVhJIPqV-4HR  3017   \n",
      "148         7          2  https://v2.exercisedb.io/image/ZM87B6FaT7TmLB    60   \n",
      "\n",
      "                                              name  target  \\\n",
      "155                         barbell overhead squat      13   \n",
      "75                                      band shrug      16   \n",
      "95                                    band y-raise       6   \n",
      "158                            barbell pendlay row      18   \n",
      "148  barbell lying triceps extension skull crusher      17   \n",
      "\n",
      "     secondaryMuscles/0  secondaryMuscles/1  \\\n",
      "155                   9                  13   \n",
      "75                   20                  20   \n",
      "95                   23                  24   \n",
      "158                   3                   9   \n",
      "148                  20                  20   \n",
      "\n",
      "                                        instructions/0  \\\n",
      "155  Stand with your feet shoulder-width apart and ...   \n",
      "75   Stand with your feet shoulder-width apart and ...   \n",
      "95   Stand with your feet shoulder-width apart and ...   \n",
      "158  Stand with your feet shoulder-width apart and ...   \n",
      "148  Lie flat on a bench with your feet flat on the...   \n",
      "\n",
      "                                        instructions/1  ...  \\\n",
      "155  Hold the barbell with a wide grip, positioning...  ...   \n",
      "75   Keep your arms straight and relaxed, and let t...  ...   \n",
      "95   Keep your arms straight and lift them up and o...  ...   \n",
      "158  Bend forward at the hips, keeping your back st...  ...   \n",
      "148  Hold the barbell with an overhand grip, hands ...  ...   \n",
      "\n",
      "                                    instructions/5 secondaryMuscles/2  \\\n",
      "155                                            NaN                  2   \n",
      "75                                             NaN                  9   \n",
      "95                                             NaN                  9   \n",
      "158  Repeat for the desired number of repetitions.                  9   \n",
      "148                                            NaN                  9   \n",
      "\n",
      "    instructions/6 instructions/7  secondaryMuscles/3 instructions/8  \\\n",
      "155            NaN            NaN                   2            NaN   \n",
      "75             NaN            NaN                   5            NaN   \n",
      "95             NaN            NaN                   5            NaN   \n",
      "158            NaN            NaN                   5            NaN   \n",
      "148            NaN            NaN                   5            NaN   \n",
      "\n",
      "    secondaryMuscles/4  instructions/9 secondaryMuscles/5  instructions/10  \n",
      "155                  1             NaN                  1              NaN  \n",
      "75                   1             NaN                  1              NaN  \n",
      "95                   1             NaN                  1              NaN  \n",
      "158                  1             NaN                  1              NaN  \n",
      "148                  1             NaN                  1              NaN  \n",
      "\n",
      "[5 rows x 23 columns]\n"
     ]
    }
   ],
   "source": [
    "import pandas as pd\n",
    "from sklearn.model_selection import train_test_split\n",
    "from sklearn.preprocessing import LabelEncoder\n",
    "from sklearn.neighbors import KNeighborsClassifier\n",
    "from sklearn.ensemble import RandomForestClassifier\n",
    "from sklearn.metrics import accuracy_score\n",
    "\n",
    "# Load the dataset\n",
    "# Assuming the dataset is a CSV\n",
    "df = pd.read_csv('gym/exercises.csv')\n",
    "\n",
    "# Label encoding for categorical columns\n",
    "label_encoders = {}\n",
    "categorical_columns = ['bodyPart', 'equipment', 'target', 'secondaryMuscles/0', 'secondaryMuscles/1',\n",
    "                       'secondaryMuscles/2', 'secondaryMuscles/3', 'secondaryMuscles/4', 'secondaryMuscles/5']\n",
    "\n",
    "# Encode each categorical column\n",
    "for col in categorical_columns:\n",
    "    le = LabelEncoder()\n",
    "    df[col] = le.fit_transform(df[col].astype(str))  # Handle NaN values if necessary\n",
    "    label_encoders[col] = le  # Save the encoders for later use\n",
    "\n",
    "# Selecting features\n",
    "X = df[['bodyPart', 'equipment', 'target', 'secondaryMuscles/0', 'secondaryMuscles/1', \n",
    "        'secondaryMuscles/2', 'secondaryMuscles/3', 'secondaryMuscles/4', 'secondaryMuscles/5']]\n",
    "\n",
    "# Target variable (target muscle)\n",
    "y = df['target']\n",
    "\n",
    "# Split the dataset into training and test sets\n",
    "X_train, X_test, y_train, y_test = train_test_split(X, y, test_size=0.2, random_state=42)# Random Forest model\n",
    "rf = RandomForestClassifier(n_estimators=100, random_state=42)\n",
    "\n",
    "# Train the model\n",
    "rf.fit(X_train, y_train)\n",
    "\n",
    "# Predict on test set\n",
    "y_pred_rf = rf.predict(X_test)\n",
    "\n",
    "# Evaluate accuracy\n",
    "accuracy_rf = accuracy_score(y_test, y_pred_rf)\n",
    "print(f'Random Forest Accuracy: {accuracy_rf * 100:.2f}%')\n",
    "# Example: Recommend exercises similar to a specific target\n",
    "def recommend_exercises(target_input, k=5):\n",
    "    # Encode the target input using the label encoder\n",
    "    target_encoded = label_encoders['target'].transform([target_input])[0]\n",
    "    \n",
    "    # Get the predicted probabilities for the input\n",
    "    probabilities = rf.predict_proba(X_test)\n",
    "    \n",
    "    # # Get indices of top k exercises similar to the input\n",
    "    recommended_indices = np.argsort(probabilities[:, target_encoded])[-k:][::-1]\n",
    "    \n",
    "    # # Decode the recommended target exercises\n",
    "    recommendations = df.iloc[recommended_indices]\n",
    "    \n",
    "    # Return the recommended exercises\n",
    "    return recommendations\n",
    "\n",
    "# Example usage\n",
    "target_input = 'triceps'  # Provide a target muscle group\n",
    "recommended_exercises = recommend_exercises(target_input)\n",
    "print(recommended_exercises)\n",
    "\n",
    "\n",
    "\n"
   ]
  },
  {
   "cell_type": "code",
   "execution_count": 38,
   "metadata": {},
   "outputs": [],
   "source": [
    "# # KNN model\n",
    "# knn = KNeighborsClassifier(n_neighbors=5)\n",
    "\n",
    "# # Train the model\n",
    "# knn.fit(X_train, y_train)\n",
    "\n",
    "# # Predict on test set\n",
    "# y_pred_knn = knn.predict(X_test)\n",
    "\n",
    "# # Evaluate accuracy\n",
    "# accuracy_knn = accuracy_score(y_test, y_pred_knn)\n",
    "# print(f'KNN Accuracy: {accuracy_knn * 100:.2f}%')\n",
    "\n"
   ]
  },
  {
   "cell_type": "code",
   "execution_count": 39,
   "metadata": {},
   "outputs": [
    {
     "name": "stdout",
     "output_type": "stream",
     "text": [
      "Random Forest Accuracy: 99.25%\n",
      "Model saved as exercise_recommender_model.pkl\n",
      "Label encoders saved as label_encoders.pkl\n",
      "     bodyPart  equipment                                         gifUrl    id  \\\n",
      "93          9          1  https://v2.exercisedb.io/image/vTLs3CG4iTTQBQ  1015   \n",
      "209         4          2  https://v2.exercisedb.io/image/RrquYaCSKwvYCI  1372   \n",
      "243         8          3  https://v2.exercisedb.io/image/hbYRkCu265IStj   130   \n",
      "199         9          2  https://v2.exercisedb.io/image/O73ZwgxZ9PNw6e  2799   \n",
      "113         0          2  https://v2.exercisedb.io/image/vq5SEVPv-8EfNE    37   \n",
      "\n",
      "                                   name  target  secondaryMuscles/0  \\\n",
      "93           band vertical pallof press       1                  16   \n",
      "209         barbell standing calf raise       4                  10   \n",
      "243                 bench hip extension       8                  10   \n",
      "199  barbell sitted alternate leg raise       1                  12   \n",
      "113  barbell decline wide-grip pullover      10                  24   \n",
      "\n",
      "     secondaryMuscles/1                                     instructions/0  \\\n",
      "93                   10  Stand with your feet shoulder-width apart and ...   \n",
      "209                  10  Stand with your feet shoulder-width apart and ...   \n",
      "243                  20  Sit on a bench with your back against the benc...   \n",
      "199                  20  Sit on a bench with your back straight and hol...   \n",
      "113                   5  Lie on a decline bench with your head lower th...   \n",
      "\n",
      "                                        instructions/1  ...  \\\n",
      "93   Hold the band with both hands and step away fr...  ...   \n",
      "209  Raise your heels off the ground as high as pos...  ...   \n",
      "243         Place your hands on the bench for support.  ...   \n",
      "199  Keeping your legs straight, lift one leg up as...  ...   \n",
      "113  Hold a barbell with a wide grip and extend you...  ...   \n",
      "\n",
      "                                        instructions/5 secondaryMuscles/2  \\\n",
      "93   Hold the position for a few seconds, then slow...                  9   \n",
      "209                                                NaN                  9   \n",
      "243                                                NaN                  9   \n",
      "199                                                NaN                  9   \n",
      "113                                                NaN                  9   \n",
      "\n",
      "                                        instructions/6 instructions/7  \\\n",
      "93   Repeat for the desired number of repetitions, ...            NaN   \n",
      "209                                                NaN            NaN   \n",
      "243                                                NaN            NaN   \n",
      "199                                                NaN            NaN   \n",
      "113                                                NaN            NaN   \n",
      "\n",
      "     secondaryMuscles/3 instructions/8 secondaryMuscles/4  instructions/9  \\\n",
      "93                    5            NaN                  1             NaN   \n",
      "209                   5            NaN                  1             NaN   \n",
      "243                   5            NaN                  1             NaN   \n",
      "199                   5            NaN                  1             NaN   \n",
      "113                   5            NaN                  1             NaN   \n",
      "\n",
      "    secondaryMuscles/5  instructions/10  \n",
      "93                   1              NaN  \n",
      "209                  1              NaN  \n",
      "243                  1              NaN  \n",
      "199                  1              NaN  \n",
      "113                  1              NaN  \n",
      "\n",
      "[5 rows x 23 columns]\n"
     ]
    }
   ],
   "source": [
    "import pandas as pd\n",
    "import numpy as np\n",
    "from sklearn.model_selection import train_test_split\n",
    "from sklearn.preprocessing import LabelEncoder\n",
    "from sklearn.ensemble import RandomForestClassifier\n",
    "from sklearn.metrics import accuracy_score\n",
    "import joblib  # For saving and loading the model\n",
    "import os\n",
    "\n",
    "# Load the dataset (update the path as needed)\n",
    "df = pd.read_csv('gym/exercises.csv')\n",
    "\n",
    "# Label encoding for categorical columns\n",
    "label_encoders = {}\n",
    "categorical_columns = ['bodyPart', 'equipment', 'target', 'secondaryMuscles/0', 'secondaryMuscles/1',\n",
    "                       'secondaryMuscles/2', 'secondaryMuscles/3', 'secondaryMuscles/4', 'secondaryMuscles/5']\n",
    "\n",
    "# Encode each categorical column\n",
    "for col in categorical_columns:\n",
    "    le = LabelEncoder()\n",
    "    df[col] = le.fit_transform(df[col].astype(str))  # Handle NaN values if necessary\n",
    "    label_encoders[col] = le  # Save the encoders for later use\n",
    "\n",
    "# Selecting features\n",
    "X = df[['bodyPart', 'equipment', 'target', 'secondaryMuscles/0', 'secondaryMuscles/1', \n",
    "        'secondaryMuscles/2', 'secondaryMuscles/3', 'secondaryMuscles/4', 'secondaryMuscles/5']]\n",
    "\n",
    "# Target variable (target muscle)\n",
    "y = df['target']\n",
    "\n",
    "# Split the dataset into training and test sets\n",
    "X_train, X_test, y_train, y_test = train_test_split(X, y, test_size=0.2, random_state=42)\n",
    "\n",
    "# Random Forest model\n",
    "rf = RandomForestClassifier(n_estimators=100, random_state=42)\n",
    "\n",
    "# Train the model\n",
    "rf.fit(X_train, y_train)\n",
    "\n",
    "# Predict on test set\n",
    "y_pred_rf = rf.predict(X_test)\n",
    "\n",
    "# Evaluate accuracy\n",
    "accuracy_rf = accuracy_score(y_test, y_pred_rf)\n",
    "print(f'Random Forest Accuracy: {accuracy_rf * 100:.2f}%')\n",
    "\n",
    "# Save the trained model as a .pkl file\n",
    "model_filename = 'exercise_recommender_model.pkl'\n",
    "joblib.dump(rf, model_filename)\n",
    "print(f'Model saved as {model_filename}')\n",
    "\n",
    "# Save the label encoders for future use\n",
    "encoder_filename = 'label_encoders.pkl'\n",
    "joblib.dump(label_encoders, encoder_filename)\n",
    "print(f'Label encoders saved as {encoder_filename}')\n",
    "\n",
    "# Function to recommend exercises similar to a specific target\n",
    "def recommend_exercises(target_input, k=5):\n",
    "    # Error handling for invalid inputs\n",
    "    if target_input not in label_encoders['target'].classes_:\n",
    "        return f\"Invalid target: {target_input}. Available options: {label_encoders['target'].classes_}\"\n",
    "    \n",
    "    # Encode the target input using the label encoder\n",
    "    target_encoded = label_encoders['target'].transform([target_input])[0]\n",
    "    \n",
    "    # Get the predicted probabilities for all test data\n",
    "    probabilities = rf.predict_proba(X_test)\n",
    "    \n",
    "    # Get indices of top k exercises similar to the input\n",
    "    recommended_indices = np.argsort(probabilities[:, target_encoded])[-k:][::-1]\n",
    "    \n",
    "    # Decode the recommended target exercises\n",
    "    recommendations = df.iloc[recommended_indices]\n",
    "    \n",
    "    # Return the recommended exercises\n",
    "    return recommendations\n",
    "\n",
    "# Example usage\n",
    "target_input = 'quads'  # Provide a target muscle group\n",
    "recommended_exercises = recommend_exercises(target_input)\n",
    "print(recommended_exercises)\n"
   ]
  },
  {
   "cell_type": "code",
   "execution_count": null,
   "metadata": {},
   "outputs": [],
   "source": [
    "\n",
    "\n",
    "\n",
    "\n"
   ]
  },
  {
   "cell_type": "code",
   "execution_count": null,
   "metadata": {},
   "outputs": [],
   "source": []
  },
  {
   "cell_type": "code",
   "execution_count": 40,
   "metadata": {},
   "outputs": [
    {
     "data": {
      "text/plain": [
       "['exe_label_encoders.pkl']"
      ]
     },
     "execution_count": 40,
     "metadata": {},
     "output_type": "execute_result"
    }
   ],
   "source": [
    "import joblib\n",
    "# # Save the RandomForest model and label encoders\n",
    "joblib.dump(rf, 'exe_model.pkl')\n",
    "joblib.dump(label_encoders, 'exe_label_encoders.pkl')"
   ]
  },
  {
   "cell_type": "code",
   "execution_count": 41,
   "metadata": {},
   "outputs": [],
   "source": [
    "# # Example: Recommend exercises similar to a specific target\n",
    "# def recommend_exercises(target_input, k=5):\n",
    "#     target_encoded = label_encoders['target'].transform([target_input])[0]\n",
    "    \n",
    "#     # Find the k-nearest neighbors\n",
    "#     distances, indices = knn.kneighbors(X[X['target'] == target_encoded], n_neighbors=k)\n",
    "    \n",
    "#     # Get the recommended exercises\n",
    "#     recommended_exercises = df.iloc[indices[0]]\n",
    "#     return recommended_exercises[['name', 'target', 'bodyPart', 'equipment']]\n",
    "\n",
    "# # Recommend exercises similar to 'biceps'\n",
    "# recommend_exercises('biceps', k=5)\n"
   ]
  },
  {
   "cell_type": "code",
   "execution_count": 42,
   "metadata": {},
   "outputs": [],
   "source": [
    "# # Feature importance from the random forest\n",
    "# importances = rf.feature_importances_\n",
    "# feature_names = X.columns\n",
    "\n",
    "# # Display the feature importance\n",
    "# for name, importance in zip(feature_names, importances):\n",
    "#     print(f'{name}: {importance:.4f}')\n"
   ]
  },
  {
   "cell_type": "code",
   "execution_count": 43,
   "metadata": {},
   "outputs": [],
   "source": [
    "# import pickle\n",
    "# # Save the Random Forest model and label encoders\n",
    "# with open('exercise_model.pkl', 'wb') as file:\n",
    "#     pickle.dump({'model': rf, 'label_encoders': label_encoders}, file)"
   ]
  },
  {
   "cell_type": "code",
   "execution_count": null,
   "metadata": {},
   "outputs": [],
   "source": []
  },
  {
   "cell_type": "code",
   "execution_count": null,
   "metadata": {},
   "outputs": [],
   "source": []
  },
  {
   "cell_type": "code",
   "execution_count": null,
   "metadata": {},
   "outputs": [],
   "source": []
  },
  {
   "cell_type": "code",
   "execution_count": null,
   "metadata": {},
   "outputs": [],
   "source": []
  },
  {
   "cell_type": "code",
   "execution_count": null,
   "metadata": {},
   "outputs": [],
   "source": []
  },
  {
   "cell_type": "code",
   "execution_count": null,
   "metadata": {},
   "outputs": [],
   "source": []
  },
  {
   "cell_type": "code",
   "execution_count": null,
   "metadata": {},
   "outputs": [],
   "source": []
  }
 ],
 "metadata": {
  "kernelspec": {
   "display_name": "Python 3",
   "language": "python",
   "name": "python3"
  },
  "language_info": {
   "codemirror_mode": {
    "name": "ipython",
    "version": 3
   },
   "file_extension": ".py",
   "mimetype": "text/x-python",
   "name": "python",
   "nbconvert_exporter": "python",
   "pygments_lexer": "ipython3",
   "version": "3.11.4"
  }
 },
 "nbformat": 4,
 "nbformat_minor": 2
}
